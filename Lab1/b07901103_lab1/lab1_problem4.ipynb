{
 "cells": [
  {
   "cell_type": "code",
   "execution_count": 1,
   "metadata": {},
   "outputs": [
    {
     "name": "stderr",
     "output_type": "stream",
     "text": [
      "C:\\Users\\user\\Downloads\\anaconda\\envs\\IBMQ\\lib\\site-packages\\qiskit\\providers\\ibmq\\ibmqfactory.py:109: UserWarning: Timestamps in IBMQ backend properties, jobs, and job results are all now in local time instead of UTC.\n",
      "  warnings.warn('Timestamps in IBMQ backend properties, jobs, and job results '\n"
     ]
    },
    {
     "data": {
      "text/plain": [
       "<AccountProvider for IBMQ(hub='ibm-q', group='open', project='main')>"
      ]
     },
     "execution_count": 1,
     "metadata": {},
     "output_type": "execute_result"
    }
   ],
   "source": [
    "from qiskit import IBMQ\n",
    "apitoken = 'cdad9ef01fbad88f5ee99fa7fc4cfb7b5eb8755c52fd1697690c6b680797a57384a80d5a6bfd5e99332b8ee8a58e74e3903034a7f4c19eb9d29b9e3da35aff0d'\n",
    "IBMQ.enable_account(apitoken)"
   ]
  },
  {
   "cell_type": "code",
   "execution_count": 2,
   "metadata": {},
   "outputs": [
    {
     "name": "stdout",
     "output_type": "stream",
     "text": [
      "{'100': 1024}\n"
     ]
    }
   ],
   "source": [
    "# Problem4, 20 %\n",
    "# Import some libraries\n",
    "from qiskit import *\n",
    "import numpy as np\n",
    "from qiskit import QuantumCircuit, execute, Aer\n",
    "from qiskit.visualization import plot_histogram, plot_bloch_vector, plot_bloch_multivector\n",
    "from math import sqrt, pi\n",
    "\n",
    "# Create one qubits and one classical bits\n",
    "q = QuantumRegister(3)\n",
    "c = ClassicalRegister(3)\n",
    "\n",
    "# Create a quantum circuit\n",
    "circuit = QuantumCircuit(q, c)\n",
    "\n",
    "# states are the same --> output: '100'\n",
    "circuit.h(q[2])\n",
    "circuit.cswap(q[2], q[1], q[0])\n",
    "circuit.h(q[2])\n",
    "circuit.x(q[2])\n",
    "\n",
    "# Draw\n",
    "#circuit.draw()\n",
    "\n",
    "# Simulate > [0.+0.j 1.+0.j 0.+0.j 0.+0.j]\n",
    "#simulator = Aer.get_backend('statevector_simulator')\n",
    "#job = execute(circuit, simulator)\n",
    "#result = job.result()\n",
    "#statevector = result.get_statevector()\n",
    "#print(statevector)\n",
    "#plot_bloch_multivector(statevector)\n",
    "\n",
    "# Measure > {'01': 1024}\n",
    "circuit.measure(q[2], c[2])\n",
    "simulator = Aer.get_backend('qasm_simulator')\n",
    "job = execute(circuit, simulator, shots=1024)\n",
    "result = job.result()\n",
    "counts = result.get_counts()\n",
    "print(counts)"
   ]
  },
  {
   "cell_type": "code",
   "execution_count": 3,
   "metadata": {},
   "outputs": [
    {
     "name": "stdout",
     "output_type": "stream",
     "text": [
      "{'000': 236, '100': 788}\n"
     ]
    }
   ],
   "source": [
    "# Problem4, 20 %\n",
    "# Import some libraries\n",
    "from qiskit import *\n",
    "import numpy as np\n",
    "from qiskit import QuantumCircuit, execute, Aer\n",
    "from qiskit.visualization import plot_histogram, plot_bloch_vector, plot_bloch_multivector\n",
    "from math import sqrt, pi\n",
    "\n",
    "# Create one qubits and one classical bits\n",
    "q = QuantumRegister(3)\n",
    "c = ClassicalRegister(3)\n",
    "\n",
    "# Create a quantum circuit\n",
    "circuit = QuantumCircuit(q, c)\n",
    "\n",
    "# states are different (not orthogonal) --> output: '000' : '100' = 1 : 3\n",
    "circuit.x(q[0])\n",
    "circuit.h(q[0])\n",
    "circuit.x(q[1])\n",
    "circuit.h(q[2])\n",
    "circuit.cswap(q[2], q[1], q[0])\n",
    "circuit.h(q[2])\n",
    "circuit.x(q[2])\n",
    "\n",
    "# Draw\n",
    "#circuit.draw()\n",
    "\n",
    "# Simulate > [0.+0.j 1.+0.j 0.+0.j 0.+0.j]\n",
    "#simulator = Aer.get_backend('statevector_simulator')\n",
    "#job = execute(circuit, simulator)\n",
    "#result = job.result()\n",
    "#statevector = result.get_statevector()\n",
    "#print(statevector)\n",
    "#plot_bloch_multivector(statevector)\n",
    "\n",
    "# Measure > {'01': 1024}\n",
    "circuit.measure(q[2], c[2])\n",
    "simulator = Aer.get_backend('qasm_simulator')\n",
    "job = execute(circuit, simulator, shots=1024)\n",
    "result = job.result()\n",
    "counts = result.get_counts()\n",
    "print(counts)"
   ]
  },
  {
   "cell_type": "code",
   "execution_count": 4,
   "metadata": {},
   "outputs": [
    {
     "name": "stdout",
     "output_type": "stream",
     "text": [
      "{'000': 500, '100': 524}\n"
     ]
    }
   ],
   "source": [
    "# Problem4, 20 %\n",
    "# Import some libraries\n",
    "from qiskit import *\n",
    "import numpy as np\n",
    "from qiskit import QuantumCircuit, execute, Aer\n",
    "from qiskit.visualization import plot_histogram, plot_bloch_vector, plot_bloch_multivector\n",
    "from math import sqrt, pi\n",
    "\n",
    "# Create one qubits and one classical bits\n",
    "q = QuantumRegister(3)\n",
    "c = ClassicalRegister(3)\n",
    "\n",
    "# Create a quantum circuit\n",
    "circuit = QuantumCircuit(q, c)\n",
    "\n",
    "# states are different (orthogonal) --> output: '000' : '100' = 1 : 1\n",
    "circuit.x(q[1])\n",
    "circuit.h(q[2])\n",
    "circuit.cswap(q[2], q[1], q[0])\n",
    "circuit.h(q[2])\n",
    "circuit.x(q[2])\n",
    "\n",
    "# Draw\n",
    "#circuit.draw()\n",
    "\n",
    "# Simulate > [0.+0.j 1.+0.j 0.+0.j 0.+0.j]\n",
    "#simulator = Aer.get_backend('statevector_simulator')\n",
    "#job = execute(circuit, simulator)\n",
    "#result = job.result()\n",
    "#statevector = result.get_statevector()\n",
    "#print(statevector)\n",
    "#plot_bloch_multivector(statevector)\n",
    "\n",
    "# Measure > {'01': 1024}\n",
    "circuit.measure(q[2], c[2])\n",
    "simulator = Aer.get_backend('qasm_simulator')\n",
    "job = execute(circuit, simulator, shots=1024)\n",
    "result = job.result()\n",
    "counts = result.get_counts()\n",
    "print(counts)"
   ]
  },
  {
   "cell_type": "code",
   "execution_count": null,
   "metadata": {},
   "outputs": [],
   "source": []
  }
 ],
 "metadata": {
  "kernelspec": {
   "display_name": "Python 3",
   "language": "python",
   "name": "python3"
  },
  "language_info": {
   "codemirror_mode": {
    "name": "ipython",
    "version": 3
   },
   "file_extension": ".py",
   "mimetype": "text/x-python",
   "name": "python",
   "nbconvert_exporter": "python",
   "pygments_lexer": "ipython3",
   "version": "3.8.5"
  }
 },
 "nbformat": 4,
 "nbformat_minor": 4
}
