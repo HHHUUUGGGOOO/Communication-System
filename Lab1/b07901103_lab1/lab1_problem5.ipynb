{
 "cells": [
  {
   "cell_type": "code",
   "execution_count": 1,
   "metadata": {},
   "outputs": [
    {
     "name": "stderr",
     "output_type": "stream",
     "text": [
      "C:\\Users\\user\\Downloads\\anaconda\\envs\\IBMQ\\lib\\site-packages\\qiskit\\providers\\ibmq\\ibmqfactory.py:109: UserWarning: Timestamps in IBMQ backend properties, jobs, and job results are all now in local time instead of UTC.\n",
      "  warnings.warn('Timestamps in IBMQ backend properties, jobs, and job results '\n"
     ]
    },
    {
     "data": {
      "text/plain": [
       "<AccountProvider for IBMQ(hub='ibm-q', group='open', project='main')>"
      ]
     },
     "execution_count": 1,
     "metadata": {},
     "output_type": "execute_result"
    }
   ],
   "source": [
    "from qiskit import IBMQ\n",
    "apitoken = 'cdad9ef01fbad88f5ee99fa7fc4cfb7b5eb8755c52fd1697690c6b680797a57384a80d5a6bfd5e99332b8ee8a58e74e3903034a7f4c19eb9d29b9e3da35aff0d'\n",
    "IBMQ.enable_account(apitoken)"
   ]
  },
  {
   "cell_type": "code",
   "execution_count": 4,
   "metadata": {},
   "outputs": [
    {
     "name": "stdout",
     "output_type": "stream",
     "text": [
      "Executing Job...\n",
      "\n",
      "Result (binary):  {'00010100100010100010111001101000': 1} \n",
      "\n",
      "0.006014823913574219\n"
     ]
    }
   ],
   "source": [
    "# Problem5, 30 %, quantum random generator\n",
    "# Import some libraries\n",
    "from qiskit import *\n",
    "import numpy as np\n",
    "from qiskit import QuantumCircuit, execute, Aer\n",
    "from qiskit.visualization import plot_histogram, plot_bloch_vector, plot_bloch_multivector\n",
    "from math import sqrt, pi\n",
    "import time\n",
    "\n",
    "# Create one qubits and one classical bits\n",
    "q = QuantumRegister(2**5, 'q')\n",
    "c = ClassicalRegister(2**5, 'c')\n",
    "\n",
    "# Create a quantum circuit\n",
    "circuit = QuantumCircuit(q, c)\n",
    "circuit.h(q)\n",
    "circuit.measure(q, c)\n",
    "\n",
    "# Draw\n",
    "circuit.draw()\n",
    "\n",
    "# Simulate\n",
    "simulator = Aer.get_backend('qasm_simulator')\n",
    "\n",
    "start = time.time() # start time\n",
    "\n",
    "job = execute(circuit, simulator, shots=1)\n",
    "\n",
    "# Print\n",
    "print(\"Executing Job...\\n\")\n",
    "\n",
    "result = job.result()\n",
    "counts = result.get_counts(circuit)\n",
    "\n",
    "print(\"Result (binary): \", counts, '\\n')\n",
    "\n",
    "end = time.time() # end time\n",
    "\n",
    "print(end-start) # execute time"
   ]
  },
  {
   "cell_type": "code",
   "execution_count": null,
   "metadata": {},
   "outputs": [],
   "source": []
  }
 ],
 "metadata": {
  "kernelspec": {
   "display_name": "Python 3",
   "language": "python",
   "name": "python3"
  },
  "language_info": {
   "codemirror_mode": {
    "name": "ipython",
    "version": 3
   },
   "file_extension": ".py",
   "mimetype": "text/x-python",
   "name": "python",
   "nbconvert_exporter": "python",
   "pygments_lexer": "ipython3",
   "version": "3.8.5"
  }
 },
 "nbformat": 4,
 "nbformat_minor": 4
}
