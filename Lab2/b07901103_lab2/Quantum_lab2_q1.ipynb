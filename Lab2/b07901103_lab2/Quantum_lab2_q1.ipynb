{
 "cells": [
  {
   "cell_type": "code",
   "execution_count": 1,
   "metadata": {
    "scrolled": true
   },
   "outputs": [
    {
     "name": "stderr",
     "output_type": "stream",
     "text": [
      "C:\\Users\\user\\Downloads\\anaconda\\envs\\IBMQ\\lib\\site-packages\\qiskit\\providers\\ibmq\\ibmqfactory.py:192: UserWarning: Timestamps in IBMQ backend properties, jobs, and job results are all now in local time instead of UTC.\n",
      "  warnings.warn('Timestamps in IBMQ backend properties, jobs, and job results '\n"
     ]
    },
    {
     "data": {
      "text/plain": [
       "<AccountProvider for IBMQ(hub='ibm-q', group='open', project='main')>"
      ]
     },
     "execution_count": 1,
     "metadata": {},
     "output_type": "execute_result"
    }
   ],
   "source": [
    "from qiskit import IBMQ\n",
    "from qiskit.providers.ibmq import least_busy\n",
    "shots = 256\n",
    "\n",
    "# Load local account information\n",
    "#IBMQ.save_account('cdad9ef01fbad88f5ee99fa7fc4cfb7b5eb8755c52fd1697690c6b680797a57384a80d5a6bfd5e99332b8ee8a58e74e3903034a7f4c19eb9d29b9e3da35aff0d')\n",
    "IBMQ.load_account()\n",
    "\n",
    "# Get the least busy backend\n",
    "#provider = IBMQ.get_provider(hub='ibm-q')\n",
    "#backend = least_busy(provider.backends(filters=lambda x: x.configuration().n_qubits >= 2 and not x.configuration().simulator and x.status().operational==True))\n",
    "#print(\"least busy backend: \", backend)\n",
    "\n",
    "# Run our circuit\n",
    "#job = execute(qc, backend=backend, shots=shots)\n",
    "\n",
    "# Monitoring our job\n",
    "#from qiskit.tools.monitor import job_monitor\n",
    "#job_monitor(job)"
   ]
  },
  {
   "cell_type": "code",
   "execution_count": 2,
   "metadata": {},
   "outputs": [],
   "source": [
    "# Problem 1-(a)"
   ]
  },
  {
   "cell_type": "code",
   "execution_count": 3,
   "metadata": {},
   "outputs": [
    {
     "name": "stdout",
     "output_type": "stream",
     "text": [
      "Provider:  qasm_simulator\n"
     ]
    }
   ],
   "source": [
    "# backend\n",
    "from qiskit import *\n",
    "import numpy as np\n",
    "from qiskit import QuantumCircuit, execute, Aer\n",
    "from qiskit.visualization import plot_histogram, plot_bloch_vector, plot_bloch_multivector\n",
    "from math import sqrt, pi\n",
    "\n",
    "backend = Aer.get_backend('qasm_simulator')\n",
    "print(\"Provider: \", backend)"
   ]
  },
  {
   "cell_type": "code",
   "execution_count": 4,
   "metadata": {},
   "outputs": [],
   "source": [
    "def create_bell_pair(qc, a, b):\n",
    "    qc.h(a) # Apply a h-gate to the first qubit\n",
    "    qc.cx(a,b) # Apply a CNOT, using the first qubit as the control\n",
    "    \n",
    "def encode_message(qc, qubit, msg):\n",
    "    if msg == \"00\":\n",
    "        pass    # To send 00 we do nothing\n",
    "    elif msg == \"10\":\n",
    "        qc.z(qubit) # To send 10 we apply an Z-gate\n",
    "    elif msg == \"01\":\n",
    "        qc.x(qubit) # To send 01 we apply a X-gate\n",
    "    elif msg == \"11\":\n",
    "        qc.z(qubit) # To send 11, we apply a Z-gate\n",
    "        qc.x(qubit) # followed by an X-gate\n",
    "    else:\n",
    "        print(\"Failed\")\n",
    "        \n",
    "def decode_message(qc, a, b):\n",
    "    qc.cx(a,b)\n",
    "    qc.h(a)"
   ]
  },
  {
   "cell_type": "code",
   "execution_count": 5,
   "metadata": {},
   "outputs": [
    {
     "name": "stdout",
     "output_type": "stream",
     "text": [
      "[1 0 0 1]\n",
      "Message:  1001\n"
     ]
    }
   ],
   "source": [
    "from numpy.random import randint\n",
    "import numpy as np\n",
    "\n",
    "# Alice's bit = b4b3b2b1\n",
    "n = 4 \n",
    "a_bits = randint(2, size=n) #alice_bits\n",
    "message = str(a_bits[3])+str(a_bits[2])+str(a_bits[1])+str(a_bits[0])\n",
    "print(a_bits)\n",
    "print(\"Message: \", message)"
   ]
  },
  {
   "cell_type": "code",
   "execution_count": 6,
   "metadata": {},
   "outputs": [
    {
     "name": "stdout",
     "output_type": "stream",
     "text": [
      "First part:  10\n",
      "Second part:  01\n"
     ]
    },
    {
     "data": {
      "text/html": [
       "<pre style=\"word-wrap: normal;white-space: pre;background: #fff0;line-height: 1.1;font-family: &quot;Courier New&quot;,Courier,monospace\">          ┌───┐┌───┐     ┌───┐\n",
       "q_0: ─────┤ X ├┤ Z ├──■──┤ H ├\n",
       "     ┌───┐└─┬─┘└───┘┌─┴─┐└───┘\n",
       "q_1: ┤ H ├──■───────┤ X ├─────\n",
       "     └───┘┌───┐┌───┐└───┘┌───┐\n",
       "q_2: ─────┤ X ├┤ X ├──■──┤ H ├\n",
       "     ┌───┐└─┬─┘└───┘┌─┴─┐└───┘\n",
       "q_3: ┤ H ├──■───────┤ X ├─────\n",
       "     └───┘          └───┘     </pre>"
      ],
      "text/plain": [
       "          ┌───┐┌───┐     ┌───┐\n",
       "q_0: ─────┤ X ├┤ Z ├──■──┤ H ├\n",
       "     ┌───┐└─┬─┘└───┘┌─┴─┐└───┘\n",
       "q_1: ┤ H ├──■───────┤ X ├─────\n",
       "     └───┘┌───┐┌───┐└───┘┌───┐\n",
       "q_2: ─────┤ X ├┤ X ├──■──┤ H ├\n",
       "     ┌───┐└─┬─┘└───┘┌─┴─┐└───┘\n",
       "q_3: ┤ H ├──■───────┤ X ├─────\n",
       "     └───┘          └───┘     "
      ]
     },
     "execution_count": 6,
     "metadata": {},
     "output_type": "execute_result"
    }
   ],
   "source": [
    "# Parameter\n",
    "measure = 0 #record the length of measurement_result\n",
    "bob_s = 0 #record the symbol error\n",
    "bob_b = 0 #record the bit error\n",
    "first_part = str(a_bits[0]) + str(a_bits[1])\n",
    "second_part = str(a_bits[2]) + str(a_bits[3])\n",
    "\n",
    "# Superdense Coding\n",
    "qc = QuantumCircuit(4)\n",
    "    \n",
    "create_bell_pair(qc, 1, 0)\n",
    "create_bell_pair(qc, 3, 2)\n",
    "    \n",
    "encode_message(qc, 0, first_part)\n",
    "encode_message(qc, 2, second_part)    \n",
    "\n",
    "# After recieving qubit 0, Bob applies the recovery protocol:\n",
    "decode_message(qc, 0, 1)\n",
    "decode_message(qc, 2, 3)\n",
    "\n",
    "print(\"First part: \", first_part)\n",
    "print(\"Second part: \", second_part)\n",
    "\n",
    "qc.draw()"
   ]
  },
  {
   "cell_type": "code",
   "execution_count": 7,
   "metadata": {},
   "outputs": [
    {
     "name": "stdout",
     "output_type": "stream",
     "text": [
      "{'1001': 1024}\n",
      "Symbol Error Rate:  0%\n",
      "Bit Error Rate:  0%\n"
     ]
    }
   ],
   "source": [
    "# Finally, Bob measures his qubits to read Alice's message\n",
    "qc.measure_all()\n",
    "    \n",
    "backend = Aer.get_backend('qasm_simulator')\n",
    "job_sim = execute(qc, backend, shots=1024)\n",
    "sim_result = job_sim.result()\n",
    "\n",
    "measurement_result = sim_result.get_counts(qc)\n",
    "print(measurement_result)\n",
    "    \n",
    "# Calculate the symbol/bit error rate\n",
    "for key in measurement_result:\n",
    "    measure += measurement_result[key]\n",
    "    # first part\n",
    "    if (first_part == key[3]+key[2]):\n",
    "        bob_s += measurement_result[key]/2\n",
    "    if (first_part[0] == key[3]):\n",
    "        bob_b += measurement_result[key]/4\n",
    "    if (first_part[1] == key[2]):\n",
    "        bob_b += measurement_result[key]/4\n",
    "    # second_part\n",
    "    if (second_part == key[1]+key[0]):\n",
    "        bob_s += measurement_result[key]/2\n",
    "    if (second_part[0] == key[1]):\n",
    "        bob_b += measurement_result[key]/4\n",
    "    if (second_part[1] == key[0]):\n",
    "        bob_b += measurement_result[key]/4\n",
    "\n",
    "# Symbol Error Rate\n",
    "s_rate = (1 - (bob_s/measure))*100\n",
    "print(\"Symbol Error Rate: %2.f%%\" % s_rate)\n",
    "\n",
    "# Bit Error Rate\n",
    "b_rate = (1 - (bob_b/measure))*100\n",
    "print(\"Bit Error Rate: %2.f%%\" % b_rate)"
   ]
  },
  {
   "cell_type": "code",
   "execution_count": 8,
   "metadata": {},
   "outputs": [],
   "source": [
    "# Problem 1-(b)"
   ]
  },
  {
   "cell_type": "code",
   "execution_count": 9,
   "metadata": {},
   "outputs": [
    {
     "name": "stderr",
     "output_type": "stream",
     "text": [
      "ibmqfactory.load_account:WARNING:2020-10-19 02:13:51,991: Credentials are already in use. The existing account in the session will be replaced.\n"
     ]
    },
    {
     "name": "stdout",
     "output_type": "stream",
     "text": [
      "least busy backend:  ibmq_santiago\n"
     ]
    }
   ],
   "source": [
    "from qiskit import IBMQ\n",
    "from qiskit.providers.ibmq import least_busy\n",
    "shots = 256\n",
    "\n",
    "# Load local account information\n",
    "#IBMQ.save_account('cdad9ef01fbad88f5ee99fa7fc4cfb7b5eb8755c52fd1697690c6b680797a57384a80d5a6bfd5e99332b8ee8a58e74e3903034a7f4c19eb9d29b9e3da35aff0d')\n",
    "IBMQ.load_account()\n",
    "\n",
    "# Get the least busy backend\n",
    "provider = IBMQ.get_provider(hub='ibm-q')\n",
    "backend = least_busy(provider.backends(filters=lambda x: x.configuration().n_qubits >= 2 and not x.configuration().simulator and x.status().operational==True))\n",
    "print(\"least busy backend: \", backend)\n",
    "\n",
    "# Run our circuit\n",
    "job = execute(qc, backend=backend, shots=shots)"
   ]
  },
  {
   "cell_type": "code",
   "execution_count": 10,
   "metadata": {},
   "outputs": [
    {
     "name": "stdout",
     "output_type": "stream",
     "text": [
      "Job Status: job has successfully run\n"
     ]
    }
   ],
   "source": [
    "# Monitoring our job\n",
    "from qiskit.tools.monitor import job_monitor\n",
    "job_monitor(job)"
   ]
  },
  {
   "cell_type": "code",
   "execution_count": 11,
   "metadata": {},
   "outputs": [
    {
     "data": {
      "image/png": "[encoded data removed]",
      "text/plain": [
       "<Figure size 504x360 with 1 Axes>"
      ]
     },
     "execution_count": 11,
     "metadata": {},
     "output_type": "execute_result"
    }
   ],
   "source": [
    "# Plotting our result\n",
    "result = job.result()\n",
    "plot_histogram(result.get_counts(qc))"
   ]
  },
  {
   "cell_type": "code",
   "execution_count": 12,
   "metadata": {},
   "outputs": [
    {
     "name": "stdout",
     "output_type": "stream",
     "text": [
      "Message:  1001\n",
      "Measurement result:  {'0001': 4, '1000': 4, '1001': 227, '1010': 7, '1011': 10, '1101': 4}\n",
      "Symbol Error Rate: 5.664%\n",
      "Bit Error Rate: 3.516%\n"
     ]
    }
   ],
   "source": [
    "correct_results = result.get_counts(qc)\n",
    "print(\"Message: \", message)\n",
    "print(\"Measurement result: \", correct_results)\n",
    "# Parameter\n",
    "measure = 0 #record the length of measurement_result\n",
    "bob_s = 0 #record the symbol error\n",
    "bob_b = 0 #record the bit error\n",
    "first_part = str(message[0]) + str(message[1])\n",
    "second_part = str(message[2]) + str(message[3])\n",
    "\n",
    "# Calculate the symbol/bit error rate\n",
    "for key in correct_results:\n",
    "    measure += correct_results[key]\n",
    "    # first part\n",
    "    if (first_part == key[0:2]):\n",
    "        bob_s += correct_results[key]/2\n",
    "    if (first_part[0] == key[0]):\n",
    "        bob_b += correct_results[key]/4\n",
    "    if (first_part[1] == key[1]):\n",
    "        bob_b += correct_results[key]/4\n",
    "    # second_part\n",
    "    if (second_part == key[2:4]):\n",
    "        bob_s += correct_results[key]/2\n",
    "    if (second_part[0] == key[2]):\n",
    "        bob_b += correct_results[key]/4\n",
    "    if (second_part[1] == key[3]):\n",
    "        bob_b += correct_results[key]/4\n",
    "\n",
    "# Symbol Error Rate\n",
    "s_rate = (1 - (bob_s/measure))*100\n",
    "print(\"Symbol Error Rate: %.3f%%\" % s_rate)\n",
    "\n",
    "# Bit Error Rate\n",
    "b_rate = (1 - (bob_b/measure))*100\n",
    "print(\"Bit Error Rate: %.3f%%\" % b_rate)"
   ]
  },
  {
   "cell_type": "code",
   "execution_count": null,
   "metadata": {},
   "outputs": [],
   "source": []
  }
 ],
 "metadata": {
  "kernelspec": {
   "display_name": "Python 3",
   "language": "python",
   "name": "python3"
  },
  "language_info": {
   "codemirror_mode": {
    "name": "ipython",
    "version": 3
   },
   "file_extension": ".py",
   "mimetype": "text/x-python",
   "name": "python",
   "nbconvert_exporter": "python",
   "pygments_lexer": "ipython3",
   "version": "3.8.5"
  }
 },
 "nbformat": 4,
 "nbformat_minor": 4
}
