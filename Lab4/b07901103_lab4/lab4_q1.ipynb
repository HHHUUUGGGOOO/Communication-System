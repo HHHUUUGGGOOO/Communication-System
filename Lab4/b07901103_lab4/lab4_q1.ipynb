{
 "cells": [
  {
   "cell_type": "code",
   "execution_count": 1,
   "metadata": {},
   "outputs": [],
   "source": [
    "import numpy as np\n",
    "import math"
   ]
  },
  {
   "cell_type": "code",
   "execution_count": 2,
   "metadata": {},
   "outputs": [],
   "source": [
    "symbol = ['a', 'b', 'c', 'd', 'e', 'f', 'g', 'h']\n",
    "prob = [0.28, 0.21, 0.2, 0.12, 0.075, 0.06, 0.05, 0.005]\n",
    "#symbol = ['s0', 's1', 's2', 's3', 's4']\n",
    "#prob = [0.26, 0.25, 0.20, 0.15, 0.14]"
   ]
  },
  {
   "cell_type": "code",
   "execution_count": 3,
   "metadata": {},
   "outputs": [],
   "source": [
    "# 1-(a) Calculate the entropy of X, i.e. H[X]."
   ]
  },
  {
   "cell_type": "code",
   "execution_count": 4,
   "metadata": {},
   "outputs": [
    {
     "name": "stdout",
     "output_type": "stream",
     "text": [
      "The entropy of X is:  2.596618084292768\n"
     ]
    }
   ],
   "source": [
    "H_X = 0\n",
    "for i in range(len(prob)):\n",
    "    H_X += prob[i]*(math.log(prob[i], 2))*(-1)\n",
    "print(\"The entropy of X is: \", H_X)"
   ]
  },
  {
   "cell_type": "code",
   "execution_count": 5,
   "metadata": {},
   "outputs": [],
   "source": [
    "# 1-(b) Construct the Huffman tree and the Huffman dictionary for X."
   ]
  },
  {
   "cell_type": "code",
   "execution_count": 6,
   "metadata": {},
   "outputs": [],
   "source": [
    "# Creating tree nodes\n",
    "class NodeTree(object):\n",
    "    def __init__(self, left=None, right=None):\n",
    "        self.left = left\n",
    "        self.right = right\n",
    "    def children(self):\n",
    "        return (self.left, self.right)\n",
    "    def nodes(self):\n",
    "        return (self.left, self.right)\n",
    "    def __str__(self):\n",
    "        return '%s_%s' % (self.left, self.right)"
   ]
  },
  {
   "cell_type": "code",
   "execution_count": 7,
   "metadata": {},
   "outputs": [],
   "source": [
    "# Main function implementing huffman coding\n",
    "def huffman_code_tree(node, left=True, binString=''):\n",
    "    if type(node) is str:\n",
    "        return {node: binString}\n",
    "    (l, r) = node.children()\n",
    "    d = dict()\n",
    "    d.update(huffman_code_tree(l, True, binString + '1'))\n",
    "    d.update(huffman_code_tree(r, False, binString + '0'))\n",
    "    return d"
   ]
  },
  {
   "cell_type": "code",
   "execution_count": 8,
   "metadata": {},
   "outputs": [
    {
     "name": "stdout",
     "output_type": "stream",
     "text": [
      "The probability of symbols after sorting: \n",
      " [('a', 0.28), ('b', 0.21), ('c', 0.2), ('d', 0.12), ('e', 0.075), ('f', 0.06), ('g', 0.05), ('h', 0.005)]\n"
     ]
    }
   ],
   "source": [
    "# Calculating frequency\n",
    "freq, freq_dict = {}, {}\n",
    "for i in range(len(symbol)):\n",
    "    freq[symbol[i]] = prob[i]\n",
    "    freq_dict[symbol[i]] = prob[i]\n",
    "\n",
    "freq = sorted(freq.items(), key=lambda x: x[1], reverse=True)\n",
    "print(\"The probability of symbols after sorting: \\n\", freq)"
   ]
  },
  {
   "cell_type": "code",
   "execution_count": 9,
   "metadata": {},
   "outputs": [
    {
     "name": "stdout",
     "output_type": "stream",
     "text": [
      " Char | Huffman code \n",
      "----------------------\n",
      " 'a'  |          01\n",
      " 'b'  |          10\n",
      " 'c'  |          11\n",
      " 'd'  |         001\n",
      " 'e'  |        0001\n",
      " 'f'  |       00000\n",
      " 'g'  |      000010\n",
      " 'h'  |      000011\n",
      "\n",
      "Huffman dictionary: \n",
      " {'a': '01', 'b': '10', 'c': '11', 'd': '001', 'e': '0001', 'f': '00000', 'g': '000010', 'h': '000011'}\n"
     ]
    }
   ],
   "source": [
    "nodes = freq\n",
    "huffman_dict = {}\n",
    "while len(nodes) > 1:\n",
    "    (key1, c1) = nodes[-1]\n",
    "    (key2, c2) = nodes[-2]\n",
    "    nodes = nodes[:-2]\n",
    "    node = NodeTree(key1, key2)\n",
    "    nodes.append((node, c1 + c2))\n",
    "\n",
    "    nodes = sorted(nodes, key=lambda x: x[1], reverse=True)\n",
    "\n",
    "huffmanCode = huffman_code_tree(nodes[0][0])\n",
    "\n",
    "print(' Char | Huffman code ')\n",
    "print('----------------------')\n",
    "for (char, frequency) in freq:\n",
    "    huffman_dict[char] = huffmanCode[char]\n",
    "    print(' %-4r |%12s' % (char, huffmanCode[char]))\n",
    "print(\"\\nHuffman dictionary: \\n\", huffman_dict)"
   ]
  },
  {
   "cell_type": "code",
   "execution_count": 10,
   "metadata": {},
   "outputs": [],
   "source": [
    "# 1-(c) Verify that the codewords constructed by your Huffman tree satisfy the Kraft inequality or not."
   ]
  },
  {
   "cell_type": "code",
   "execution_count": 11,
   "metadata": {},
   "outputs": [
    {
     "name": "stdout",
     "output_type": "stream",
     "text": [
      "Kraft inequality value:  1.0\n",
      "Satisfy the Kraft inequality.\n"
     ]
    }
   ],
   "source": [
    "K = 0\n",
    "for words in huffman_dict:\n",
    "    K += 2**((len(huffman_dict[words]))*(-1))\n",
    "print(\"Kraft inequality value: \", K)\n",
    "\n",
    "if (K <= 1): print(\"Satisfy the Kraft inequality.\")\n",
    "else: print(\"Not satisfy the Kraft inequality.\")"
   ]
  },
  {
   "cell_type": "code",
   "execution_count": 12,
   "metadata": {},
   "outputs": [],
   "source": [
    "# 1-(d) Find the average codeword length L for the dictionaries in Problem 1b. Do they satisfy the source-coding theorem?"
   ]
  },
  {
   "cell_type": "code",
   "execution_count": 13,
   "metadata": {},
   "outputs": [
    {
     "name": "stdout",
     "output_type": "stream",
     "text": [
      "Infomation dictionary { keys: [prob, codewords] }: \n",
      " {'a': [0.28, '01'], 'b': [0.21, '10'], 'c': [0.2, '11'], 'd': [0.12, '001'], 'e': [0.075, '0001'], 'f': [0.06, '00000'], 'g': [0.05, '000010'], 'h': [0.005, '000011']}\n"
     ]
    }
   ],
   "source": [
    "info_dict = {}\n",
    "for keys in huffman_dict:\n",
    "    info_list = []\n",
    "    info_list.append(freq_dict[keys])\n",
    "    info_list.append(huffman_dict[keys])\n",
    "    info_dict[keys] = info_list\n",
    "print(\"Infomation dictionary { keys: [prob, codewords] }: \\n\", info_dict)"
   ]
  },
  {
   "cell_type": "code",
   "execution_count": 14,
   "metadata": {},
   "outputs": [
    {
     "name": "stdout",
     "output_type": "stream",
     "text": [
      "The average codeword length L:  2.6699999999999995\n"
     ]
    }
   ],
   "source": [
    "L_ave = 0\n",
    "for keys in info_dict:\n",
    "    L_ave += info_dict[keys][0]*len(info_dict[keys][1])\n",
    "print(\"The average codeword length L: \", L_ave)"
   ]
  },
  {
   "cell_type": "code",
   "execution_count": 15,
   "metadata": {},
   "outputs": [
    {
     "name": "stdout",
     "output_type": "stream",
     "text": [
      "Entropy H[X]:  2.596618084292768\n",
      "The average codeword length L:  2.6699999999999995\n",
      "\n",
      "Source coding theorem: \n",
      "The Shannon entropy 𝐻[𝑋] of a source 𝑋 (been modeled by some probability distribution 𝑝𝑋) serves as a fundamental limit, where reliable source codes with expected length greater than 𝐻[𝑋] are possible. Otherwise, they do not exist.\n",
      "\n"
     ]
    }
   ],
   "source": [
    "print(\"Entropy H[X]: \", H_X)\n",
    "print(\"The average codeword length L: \", L_ave)\n",
    "\n",
    "print(\"\\nSource coding theorem: \\nThe Shannon entropy 𝐻[𝑋] of a source 𝑋 (been modeled by some probability distribution 𝑝𝑋) serves as a fundamental limit, where reliable source codes with expected length greater than 𝐻[𝑋] are possible. Otherwise, they do not exist.\\n\")"
   ]
  },
  {
   "cell_type": "code",
   "execution_count": 16,
   "metadata": {},
   "outputs": [],
   "source": [
    "# 1-(e) Encode the sequence of symbols { g, a, c, a, b } using the Huffman tree in Problem 1b"
   ]
  },
  {
   "cell_type": "code",
   "execution_count": 17,
   "metadata": {},
   "outputs": [
    {
     "name": "stdout",
     "output_type": "stream",
     "text": [
      "Input:  ['g', 'a', 'c', 'a', 'b']\n",
      "After encoding:  00001001110110\n"
     ]
    }
   ],
   "source": [
    "in_str = ['g', 'a', 'c', 'a', 'b']\n",
    "print(\"Input: \", in_str)\n",
    "\n",
    "enc = \"\"\n",
    "for i in in_str:\n",
    "    enc += huffman_dict[i]\n",
    "print(\"After encoding: \", enc)"
   ]
  },
  {
   "cell_type": "code",
   "execution_count": 18,
   "metadata": {},
   "outputs": [],
   "source": [
    "# 1-(f) Decode the bitstream in Problem 1e using the Huffman tree in Problem 1b"
   ]
  },
  {
   "cell_type": "code",
   "execution_count": 19,
   "metadata": {},
   "outputs": [
    {
     "name": "stdout",
     "output_type": "stream",
     "text": [
      "Encoding bits:  00001001110110\n",
      "['g', 'a', 'c', 'a', 'b']\n"
     ]
    }
   ],
   "source": [
    "print(\"Encoding bits: \", enc)\n",
    "\n",
    "reverse_dict = {}\n",
    "reverse_list = []\n",
    "for i in huffman_dict:\n",
    "    reverse_dict[huffman_dict[i]] = i\n",
    "    reverse_list.append(huffman_dict[i])\n",
    "\n",
    "dec = \"\"\n",
    "dec_list = []\n",
    "for i in range(len(enc)):\n",
    "    dec += enc[i]\n",
    "    if dec in reverse_list:\n",
    "        dec_list.append(reverse_dict[dec])\n",
    "        dec = \"\"\n",
    "print(dec_list)"
   ]
  },
  {
   "cell_type": "code",
   "execution_count": 20,
   "metadata": {},
   "outputs": [],
   "source": [
    "# 1-(g) Let Tε(n) denote the typical set of X with ε = 0.1 and n = 10. Find 10 members in the set Tε(n)"
   ]
  },
  {
   "cell_type": "code",
   "execution_count": 21,
   "metadata": {},
   "outputs": [
    {
     "name": "stdout",
     "output_type": "stream",
     "text": [
      "Lower bound:  7.627297703021716e-09\n",
      "Upper bound:  3.0509190812086935e-08\n"
     ]
    }
   ],
   "source": [
    "n, e = 10, 0.1\n",
    "low = 2**(-n*(H_X+e))\n",
    "up = 2**(-n*(H_X-e))\n",
    "print(\"Lower bound: \", low)\n",
    "print(\"Upper bound: \", up)"
   ]
  },
  {
   "cell_type": "code",
   "execution_count": 22,
   "metadata": {},
   "outputs": [
    {
     "name": "stdout",
     "output_type": "stream",
     "text": [
      "['aaaaaaaadh', 'aaaaaaaaeh', 'aaaaaaaafh', 'aaaaaaaagh', 'aaaaaaabbh', 'aaaaaaabch', 'aaaaaaabdh', 'aaaaaaabeh', 'aaaaaaabfh', 'aaaaaaacch']\n"
     ]
    }
   ],
   "source": [
    "from itertools import combinations_with_replacement\n",
    "\n",
    "typi_set = []\n",
    "count = 0\n",
    "for i in range(len(list(combinations_with_replacement(\"abcdefgh\",10)))):\n",
    "    product = 1\n",
    "    temp = \"\"\n",
    "    if (count >= 10): break\n",
    "    for j in range(len(list(combinations_with_replacement(\"abcdefgh\",10))[i])):\n",
    "        product *= freq_dict[list(combinations_with_replacement(\"abcdefgh\",10))[i][j]]\n",
    "        temp += list(combinations_with_replacement(\"abcdefgh\",10))[i][j]\n",
    "    if (low <= product <= up):\n",
    "        typi_set.append(temp)\n",
    "        count += 1\n",
    "print(typi_set)"
   ]
  }
 ],
 "metadata": {
  "kernelspec": {
   "display_name": "Python 3",
   "language": "python",
   "name": "python3"
  },
  "language_info": {
   "codemirror_mode": {
    "name": "ipython",
    "version": 3
   },
   "file_extension": ".py",
   "mimetype": "text/x-python",
   "name": "python",
   "nbconvert_exporter": "python",
   "pygments_lexer": "ipython3",
   "version": "3.6.5"
  }
 },
 "nbformat": 4,
 "nbformat_minor": 2
}
